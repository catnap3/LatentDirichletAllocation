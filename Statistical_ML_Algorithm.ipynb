{
 "cells": [
  {
   "cell_type": "markdown",
   "id": "1902bf8d-f7cc-42b3-83a8-a0ffb66d15cb",
   "metadata": {},
   "source": [
    "# Search Query Classification with Topic Modeling: Latent Dirichlet Allocation (LDA)"
   ]
  },
  {
   "cell_type": "markdown",
   "id": "38f4e031-6cc0-4c96-937b-88f5e8b6f02b",
   "metadata": {},
   "source": [
    "テキストデータなどの非構造データをモデリングするにあたり、様々な手法がこれまでに研究されてきましたが、今回は潜在的ディリクレ配分法(LDA)を使ってWEBサービスの検索キーワードを分類することを考えてみたいと思います。"
   ]
  },
  {
   "cell_type": "markdown",
   "id": "6e4dc903-09a4-4697-ae46-8f8b3b861dc4",
   "metadata": {},
   "source": [
    "## Contents\n",
    "- イントロダクション\n",
    "- 学習アルゴリズム\n",
    "- LDAを支える数学的背景\n",
    "- 前処理(Bag of Wordsの作成)\n",
    "- 変分パラメータの初期化\n",
    "- 変分推論の反復\n",
    "    - $\\phi$の更新(Eステップ)\n",
    "    - $\\gamma$の更新(Eステップ)\n",
    "    - $\\beta$の更新(Mステップ)\n",
    "    - ELBO(変分下限)の計算\n",
    "- 学習済みモデルの利用"
   ]
  },
  {
   "cell_type": "markdown",
   "id": "b681f18f-0fa6-4fbb-870f-ae36fbecc75e",
   "metadata": {},
   "source": [
    "## イントロダクション"
   ]
  },
  {
   "cell_type": "markdown",
   "id": "2b824fb7-a500-4775-9240-bc3fc08c3ff9",
   "metadata": {},
   "source": [
    "LDAは、pLSIというモデルの弱点を克服する文脈で紹介されていました。\n",
    "pLSIには、以下のような難点がありました。\n",
    "- 入力として与えるテキストデータの分量が増えるほどパラメータ数が線形的に増えてしまう\n",
    "- 訓練データに存在しない文書に対してどのようにトピックの確率を割り当てるかが不明瞭"
   ]
  },
  {
   "cell_type": "markdown",
   "id": "086f1841-e912-4a2f-af88-1d1ebc0a2230",
   "metadata": {},
   "source": [
    "LDAは生成確率モデルであり、これらの点にアプローチできるといいます。\n",
    "基本的なコンセプトは、文書中の各単語は潜在的なトピックの分布により生成されているというものです。"
   ]
  },
  {
   "cell_type": "code",
   "execution_count": null,
   "id": "6c0d265d",
   "metadata": {},
   "outputs": [],
   "source": [
    "from IPython.display import Image"
   ]
  },
  {
   "cell_type": "markdown",
   "id": "9099f9ab-34e4-49a1-bf91-59fdc11f483c",
   "metadata": {},
   "source": [
    "# 学習アルゴリズム"
   ]
  },
  {
   "cell_type": "markdown",
   "id": "7be37ce2-3bb1-4cf0-9568-ad9ac54def4f",
   "metadata": {},
   "source": [
    "論文では、LDAの学習アルゴリズムとして変分推論が提案されています。"
   ]
  },
  {
   "cell_type": "markdown",
   "id": "9107c996-737d-4357-967c-b52977d34eed",
   "metadata": {},
   "source": [
    "真の分布が不明な状況下で精度のよい確率モデルを組むためには、観測値$x$が従う未知の真の分布$p^*(x)$をどのように推測するかが重要になるのですが、真の分布は直接わからないため、真の分布を近似した$x\\sim p_\\theta(x)$を仮定してこのあとのタスクを解いていきます。そのためここでいう\"学習\"とは$p_\\theta(x)\\approx p^*(x)$となるようなパラメータ$\\theta$を探索することに相当します。学習手順としてはEMアルゴリズムが有名ですが、LDAの事後分布$p(\\theta, z|w)$は解析的に計算することができないため、EMアルゴリズムにおけるEステップを近似的に行うために変分推論を使います。"
   ]
  },
  {
   "cell_type": "markdown",
   "id": "172c3b58-f045-4947-9e74-92fb3780af05",
   "metadata": {},
   "source": [
    "具体的な手順は以下の通りです。\n",
    "- 変分パラメータの初期化\n",
    "- 変分推論の反復\n",
    "    - $\\phi$の更新(Eステップ)\n",
    "    - $\\gamma$の更新(Eステップ)\n",
    "    - $\\beta$の更新(Mステップ)\n",
    "    - ELBO(変分下限)の計算\n",
    "- 学習済みモデルの利用"
   ]
  },
  {
   "cell_type": "markdown",
   "id": "5b7a0bcd-4ee0-4717-b9ba-92346afca1ee",
   "metadata": {},
   "source": [
    "# LDAを支える数学的背景"
   ]
  },
  {
   "cell_type": "markdown",
   "id": "2ad6656f-6ad9-45ce-8eb1-8c078c4a2823",
   "metadata": {
    "tags": []
   },
   "source": [
    "## ガンマ関数\n",
    "\n",
    "$$\n",
    "\\Gamma(z) = \\int_0^\\infty t^{z-1}e^{-t}dt\n",
    "$$\n",
    "\n",
    "## ディガンマ関数(プサイ関数):ガンマ関数の対数微分(1階微分)\n",
    "\n",
    "$$\n",
    "\\Psi(x) = \\frac{d}{dx}log\\Gamma(x) = \\frac{1}{\\Gamma(x)}\\frac{d\\Gamma(x)}{dx}\n",
    "$$"
   ]
  },
  {
   "cell_type": "markdown",
   "id": "c50b795b-5003-42f0-891a-ff425946c1d7",
   "metadata": {},
   "source": [
    "## A1.期待値の演算"
   ]
  },
  {
   "cell_type": "markdown",
   "id": "3733a3b2-d18d-42d9-9289-e0779dc97a7c",
   "metadata": {},
   "source": [
    "$$\n",
    "p(\\theta|\\alpha) = \\exp\\left(\\sum_{i=1}^k(\\alpha_i-1)\\log{\\theta_i} + \\log\\gamma\\left(\\sum_{i=1}^k \\alpha_i\\right) - \\sum_{i=1}^k \\log \\gamma (\\alpha_i)\\right)\n",
    "$$"
   ]
  },
  {
   "cell_type": "markdown",
   "id": "8c5625a8-2895-4efe-853a-25792fc519ce",
   "metadata": {},
   "source": [
    "$$\n",
    "E[\\log\\theta_i | \\alpha] = \\Psi(\\alpha_i) - \\Psi\\left( \\sum_{j=1}^k \\alpha_j \\right)\n",
    "$$"
   ]
  },
  {
   "cell_type": "markdown",
   "id": "26a6a6ac-30c3-45a1-b8df-f56399e9c58d",
   "metadata": {},
   "source": [
    "$$\n",
    "\\frac{\\partial}{\\partial \\alpha_i}\\left( \\sum_{i=1}^k \\log \\Gamma (\\alpha_i) \\right) = \\Psi(\\alpha_i)\n",
    "$$"
   ]
  },
  {
   "cell_type": "markdown",
   "id": "b8ad18e1-d037-4e40-b98f-2b2d7d7faa31",
   "metadata": {},
   "source": [
    "## A2.ニュートンラフソン法"
   ]
  },
  {
   "cell_type": "markdown",
   "id": "b4b44564-5d7f-435e-ab11-c6d38a2b768c",
   "metadata": {},
   "source": [
    "## A3.変分推論"
   ]
  },
  {
   "cell_type": "markdown",
   "id": "6e02f53d-20f7-4d4f-a1e7-d09755ef436d",
   "metadata": {},
   "source": [
    "$$\n",
    "q\\left( \\theta, z|\\gamma, \\phi \\right) = q(\\theta|\\gamma) \\prod_{n=1}^N q\\left(z_n|\\phi_n\\right)\n",
    "$$"
   ]
  },
  {
   "cell_type": "markdown",
   "id": "9b06a7df-985e-4d3b-b3c0-f25011cd2e97",
   "metadata": {},
   "source": [
    "## A3.1.$\\phi_{ni}$について変分下限を最大化するよう最適化"
   ]
  },
  {
   "cell_type": "markdown",
   "id": "39f6c143-0979-491a-bf90-6a51ce105626",
   "metadata": {},
   "source": [
    "$$\n",
    "L_{[\\phi_{ni}]} = \\phi_{ni} \\left(\\Psi(\\gamma_i)-\\Psi\\left( \\sum_{j=1}^k\\gamma_j \\right) + \\phi_{ni} \\log\\beta_{i\\nu}-\\phi_{ni}\\log\\phi_{ni}+\\lambda_n\\left(\\sum_{j=1}^k\\phi_{ni}-1\\right)\\right)\n",
    "$$"
   ]
  },
  {
   "cell_type": "markdown",
   "id": "5909385b-bf6b-48bd-9c43-5a881646cab3",
   "metadata": {},
   "source": [
    "両辺を$\\phi_{ni}$で偏微分して"
   ]
  },
  {
   "cell_type": "markdown",
   "id": "97645ff5-52d3-4611-97d4-51cae594f1c3",
   "metadata": {},
   "source": [
    "$$\n",
    "\\frac{\\partial L}{\\partial\\phi_{ni}} = \\Psi\\left(\\gamma_i\\right)-\\Psi\\left(\\sum_{j=1}^k\\gamma_j\\right)+\\log \\beta_{i\\nu}-\\log \\phi_{ni}-1+\\lambda_n\n",
    "$$"
   ]
  },
  {
   "cell_type": "markdown",
   "id": "61831478-1153-43d5-a801-c8bede33201d",
   "metadata": {},
   "source": [
    "これを0とおくことで、最大値を与える$\\phi_{ni}$の値が得られる"
   ]
  },
  {
   "cell_type": "markdown",
   "id": "57edc107-9d93-449f-9148-6636f74ed38c",
   "metadata": {},
   "source": [
    "$$\n",
    "\\phi_{ni} \\propto \\beta_{i\\nu}\\exp\\left(\\Psi\\left(\\gamma_i\\right)-\\Psi\\left(\\sum_{j=1}^k\\gamma_j\\right)\\right)\n",
    "$$"
   ]
  },
  {
   "cell_type": "markdown",
   "id": "08bd591e-af43-42be-99df-eb6ce5f10af2",
   "metadata": {},
   "source": [
    "## A3.2.$\\gamma_i$について変分下限を最大化するよう最適化"
   ]
  },
  {
   "cell_type": "markdown",
   "id": "b15f539c-8688-460b-975d-e8cef50030d3",
   "metadata": {},
   "source": [
    "ELBOの式全体の中から、$\\gamma_i$に関する項のみ抜き出すと"
   ]
  },
  {
   "cell_type": "markdown",
   "id": "75903d26-f189-4560-be60-95001ed322af",
   "metadata": {},
   "source": [
    "$$\n",
    "L_{[\\gamma]} = \\sum_{i=1}^k\\left(\\Psi\\left(\\gamma_i\\right)-\\Psi\\left(\\sum_{j=1}^k\\gamma_j\\right)\\right)\\left(\\alpha_i+\\sum_{n=1}^N\\phi_{ni}-\\gamma_i\\right)-\\log\\Gamma\\left(\\sum_{j=1}^k\\gamma_j\\right)+\\log\\Gamma\\left(\\gamma_i\\right)\n",
    "$$"
   ]
  },
  {
   "cell_type": "markdown",
   "id": "fe236c4f-9f94-41da-b64f-0288319ca6bb",
   "metadata": {},
   "source": [
    "両辺を$\\gamma_i$で偏微分して"
   ]
  },
  {
   "cell_type": "markdown",
   "id": "a43812ec-1856-46fc-87d0-525cbb3cc904",
   "metadata": {},
   "source": [
    "$$\n",
    "\\frac{\\partial L}{\\partial\\gamma_i} = \\Psi'\\left(\\gamma_i\\right)\\left(\\alpha_i+\\sum_{n=1}^N\\phi_{ni}-\\gamma_i\\right)-\\Psi'\\left(\\sum_{j=1}^k\\gamma_j\\right)\\sum_{j=1}^k\\left(\\alpha_j+\\sum_{n=1}^N\\phi_{ni}-\\gamma_j\\right)\n",
    "$$"
   ]
  },
  {
   "cell_type": "markdown",
   "id": "7a14a63f-7440-481a-967c-28cd17ce98e0",
   "metadata": {},
   "source": [
    "## A4.パラメータ予測"
   ]
  },
  {
   "cell_type": "markdown",
   "id": "96cdd403-bd40-4b32-b711-0abc94a26015",
   "metadata": {},
   "source": [
    "### A4.1条件つき多項分布"
   ]
  },
  {
   "cell_type": "markdown",
   "id": "08946daf-8338-4f68-8bca-1f4877f9f1c2",
   "metadata": {},
   "source": [
    "目的：モデルパラメータ$\\beta$について変分下限を最大化するため、$\\beta$の更新式を導出"
   ]
  },
  {
   "cell_type": "markdown",
   "id": "72b55bb3-bbb1-4706-bf2b-ea2a7b60a135",
   "metadata": {},
   "source": [
    "$$\n",
    "L_{[\\beta]} = \\sum_{d=1}^M\\sum_{n=1}^{N_d}\\sum_{i=1}^k\\sum_{j=1}^V\\phi_{dni}w_{dn}^j\\log\\beta_{ij}+\\sum_{i=1}^k\\lambda_i\\left(\\sum_{j=1}^V\\beta_{ij}-1\\right)\n",
    "$$"
   ]
  },
  {
   "cell_type": "markdown",
   "id": "9f1ec291-1547-4448-9f6f-b3666784f370",
   "metadata": {},
   "source": [
    "$$\n",
    "\\beta_{ij}\\propto\\sum_{d=1}^M\\sum_{n=1}^{N_d}\\phi_{dni}w_{dn}^j\n",
    "$$"
   ]
  },
  {
   "cell_type": "markdown",
   "id": "4d23a84f-1919-40ea-9676-5d191a7aa1b2",
   "metadata": {},
   "source": [
    "$\\beta+{ij}$で偏微分して、変分下限を0とおくと\n",
    "$$\\sum_{d=1}^M\\sum_{n=1}^{N_d}\\phi_{dni}w_{dn}^j\\frac{1}{\\beta_{ij}}+\\lambda_i=0$$\n",
    "$$\\Leftrightarrow\\beta_{ij} = -\\frac{1}{\\lambda_i}\\sum_{d=1}^M\\sum_{n=1}^{N_d}\\phi_{dni}w_{dn}^j$$\n",
    "ここで、制約条件\n",
    "$$\\sum_{j=1}^V\\beta_{ij}=1$$\n",
    "により、常識をすべての$j$について足し合わせると\n",
    "$$\\sum_{j=1}^V\\beta_{ij} = \\sum_{j=1}^V\\left( -\\frac{1}{\\lambda_i}\\sum_{d=1}^M\\sum_{n=1}^{N_d}\\phi_{dni}w_{dn}^j \\right)=1$$\n",
    "\n",
    "$$\\Leftrightarrow-\\frac{1}{\\lambda_i}\\sum_{j=1}^V\\sum_{d=1}^M\\sum_{n=1}^{N_d}\\phi_{dni}w_{dn}^j=1$$\n",
    "\n",
    "$$\\beta_{ij} = \\frac{\\sum_{d=1}^M\\sum_{n=1}^{N_d}\\phi_{dni}w_{dn}^j}{\\sum_{j=1}^V\\sum_{d=1}^M\\sum_{n=1}^{N_d}\\phi_{dni}w_{dn}^j}$$\n",
    "\n",
    "ここで、分母は$i$番目のトピックに関するすべての単語の確率の和に等しいため、定数とみなせる。\n",
    "\n",
    "$$\\therefore\\beta_{ij}\\propto\\sum_{d=1}^M\\sum_{n=1}^{N_d}\\phi_{dni}w_{dn}^j$$"
   ]
  },
  {
   "cell_type": "markdown",
   "id": "6795cd9a-a4c3-479a-b622-56cb9629b936",
   "metadata": {},
   "source": [
    "### A.4.2 ディリクレ分布"
   ]
  },
  {
   "cell_type": "markdown",
   "id": "807e5210-db4d-4965-819c-93b9027ff104",
   "metadata": {},
   "source": [
    "Appendix A.4.2では、モデルパラメータ$\\alpha$の更新式を導出するために、$\\alpha$を含む変分下限(ELBO)の項を抽出し、$\\alpha$に関する偏微分を計算している。しかし、$\\alpha$に関する偏微分は、他の$\\alpha_j(j\\ne i)$にも依存するため、解析的に解くことができない。そこでニュートンラフソン法などの反復法を用いて$\\alpha$を最適化する。特にヘッセ行列が特定の構造を持つため、Appendix A.2で説明されている線形時間のニュートンラフソン法を適用できることが示されている。"
   ]
  },
  {
   "cell_type": "markdown",
   "id": "50f64f4d-3186-4ed7-a481-d9f301bdc9db",
   "metadata": {},
   "source": [
    "$\\alpha$を含む項は"
   ]
  },
  {
   "cell_type": "markdown",
   "id": "11d21eaf-c4d5-42cd-9805-559a20f764c6",
   "metadata": {},
   "source": [
    "$$\n",
    "L_{[\\alpha]} = \\sum_{d=1}^M\\left(\\log\\Gamma\\left(\\sum_{j=1}^k\\alpha_j\\right)-\\sum_{i=1}^k\\log\\Gamma\\left(\\alpha_j\\right)+\\sum_{i=1}^k\\left(\\left(\\alpha_j-1\\right)\\left(\\Psi\\left(\\gamma_{di}\\right)-\\Psi\\left(\\sum_{j=1}^k\\gamma_{dj}\\right)\\right)\\right)\\right)\n",
    "$$"
   ]
  },
  {
   "cell_type": "markdown",
   "id": "8e3a15ed-ad08-49e8-94e2-a16a41d8766e",
   "metadata": {},
   "source": [
    "$\\alpha_i$に関して微分すると"
   ]
  },
  {
   "cell_type": "markdown",
   "id": "703c735a-086e-4bee-92a3-fc2cc6f59a55",
   "metadata": {},
   "source": [
    "$$\n",
    "\\frac{\\partial L}{\\partial \\alpha_i} = M\\left(\\Psi\\left(\\sum_{j=1}^k\\alpha_j\\right)-\\Psi\\left(\\alpha_i\\right)\\right)+\\sum_{d=1}^M\\left(\\Psi\\left(\\gamma_{di}\\right)-\\Psi\\left(\\sum_{j=1}^k\\gamma_{dj}\\right)\\right)\n",
    "$$"
   ]
  },
  {
   "cell_type": "markdown",
   "id": "a186f1e1-0884-4fc6-9161-84d143bd4c8d",
   "metadata": {},
   "source": [
    "しかし、$\\alpha$に関する偏微分は、他の$\\alpha_j(j\\ne i)$にも依存しており解析的に解くことができないため、最大値を与える$\\alpha$を求めるためには反復法を使用する必要がある。"
   ]
  },
  {
   "cell_type": "markdown",
   "id": "e9e01210-775f-4b9c-950e-aae6b500ef73",
   "metadata": {},
   "source": [
    "特にヘッセ行列は、式(10)"
   ]
  },
  {
   "cell_type": "markdown",
   "id": "59089059-7372-40bf-b573-a6ab322c62c4",
   "metadata": {},
   "source": [
    "$$\n",
    "H = diag(h)+\\bf{1} z \\bf{1}^T\\bf\n",
    "$$"
   ]
  },
  {
   "cell_type": "markdown",
   "id": "35d2ffd8-a622-4cb1-be56-25c7816732ee",
   "metadata": {},
   "source": [
    "に見られる形であり"
   ]
  },
  {
   "cell_type": "markdown",
   "id": "47e5b4c6-ac48-4903-a163-ae9d0430de81",
   "metadata": {},
   "source": [
    "$$\n",
    "\\frac{\\partial L}{\\partial \\alpha_i\\alpha_j} = \\delta(i,j)M\\Psi'\\left(\\alpha_i\\right)-\\Psi'\\left(\\sum_{j=1}^k\\alpha_j\\right)\n",
    "$$"
   ]
  },
  {
   "cell_type": "markdown",
   "id": "26314056-d9ff-4545-aa08-2669a464a348",
   "metadata": {},
   "source": [
    "となる。この構造ゆえ、Appendix A.2 に書かれた線形時間のニュートンラフソン法のアルゴリズムを呼び出すことができる。"
   ]
  },
  {
   "cell_type": "markdown",
   "id": "9cde8034-2860-49c1-a963-7744e45dc03a",
   "metadata": {},
   "source": [
    "最後に、5.4節に記された平滑LDAモデルにおける交換可能なディリクレ分布のスカラーパラメータである$\\eta$を求めるための経験ベイズ点推定には、$\\alpha$の推定と同様にニュートンラフソン法を用いることができる。"
   ]
  },
  {
   "cell_type": "markdown",
   "id": "52ccf6f6-961a-4788-b4ff-f014662d3104",
   "metadata": {},
   "source": [
    "# 前処理(Bag of Wordsの作成)"
   ]
  },
  {
   "cell_type": "markdown",
   "id": "ae687d6e-fd3b-468b-8551-b8428fd9f315",
   "metadata": {},
   "source": [
    "# 変分パラメータの初期化"
   ]
  },
  {
   "cell_type": "markdown",
   "id": "ce0e3a59-98fb-4b49-b151-cc26bea26009",
   "metadata": {},
   "source": [
    "ここでは変分推論の最初のステップとして、変分パラメータの初期化を行います。変分パラメータは下記の2種類があります。\n",
    "- $\\gamma$: 各文書の$d$のトピック分布$\\theta_d$を近似するディリクレ分布のパラメータ。各文書$d$に対して$k$個の値を持つベクトル($\\gamma_d\\in\\mathbb{R}^k)$\n",
    "- $\\phi$: 各文書$d$の各単語$n$のトピック割り当て$z_{dn}$を近似する多項分布のパラメータ。各文書$d$の各単語$n$に対して$k$個の値を持つベクトル$(\\phi_{dn}\\in\\mathbb{R}^k)$"
   ]
  },
  {
   "cell_type": "markdown",
   "id": "a066b457-6b45-438d-a89f-fb09624c6c4f",
   "metadata": {},
   "source": [
    "ここでは簡単のため、$\\gamma$と$\\phi$をランダム"
   ]
  },
  {
   "cell_type": "markdown",
   "id": "0ea042e6-ea14-4f6b-aa42-e44de79857e2",
   "metadata": {},
   "source": [
    "# LDAモデルの定義"
   ]
  },
  {
   "cell_type": "code",
   "execution_count": 5,
   "id": "4ef5a288-94a4-49df-accb-444c6e0688f3",
   "metadata": {
    "execution": {
     "iopub.execute_input": "2025-07-01T02:29:01.259855Z",
     "iopub.status.busy": "2025-07-01T02:29:01.259579Z",
     "iopub.status.idle": "2025-07-01T02:29:01.264324Z",
     "shell.execute_reply": "2025-07-01T02:29:01.263332Z",
     "shell.execute_reply.started": "2025-07-01T02:29:01.259813Z"
    },
    "tags": []
   },
   "outputs": [],
   "source": [
    "import numpy as np\n",
    "num_topics = 10\n",
    "num_words = 1_000\n",
    "alpha = np.full(num_topics, 0.5)\n",
    "beta = np.full(num_words, 0.5)"
   ]
  },
  {
   "cell_type": "markdown",
   "id": "239e84ba-2836-4eb5-b312-2cb453642b27",
   "metadata": {},
   "source": [
    "# ノート"
   ]
  },
  {
   "cell_type": "markdown",
   "id": "ba4cae6b-994d-4cfb-8e38-39811323afb7",
   "metadata": {},
   "source": [
    "$$\n",
    "\\phi^* = \\arg\\max_{\\phi}\\mathbf{E}_{p^*\\left(x\\right)}\\left[\\log p\\left(x|\\phi\\right)\\right]\\\\\n",
    "\\mathbf{E}_{p^*\\left(x\\right)}: 確率分布 p^*\\left(x\\right)による期待値\n",
    "$$\n",
    "\n",
    "この最適化問題は未知の確率分布\n",
    "$$\n",
    "p^*\\left(x\\right)\n",
    "$$\n",
    "\n",
    "を含んでいるため、このままでは解析不可能。\n",
    "そこで、データを真の分布からのサンプルとして、つまり\n",
    "\n",
    "$$\n",
    "x_i \\approx p^*\\left(x\\right)\n",
    "$$\n",
    "として期待値計算を近似する。\n",
    "$$\n",
    "\\mathbf{E}_{p^*\\left(x\\right)}\\left[\\log{p\\left(x|\\phi\\right)}\\right] \\approx \\frac{1}{n}\\sum^{n}_{i=1}\\log p\\left(x|\\phi\\right)\n",
    "$$\n",
    "すなわち\n",
    "$$\n",
    "\\phi^* = \\arg\\max_\\phi\\frac{1}{n}\\sum_{i=1}^{n}\\log p\\left(x_i|\\phi\\right)\n",
    "$$\n",
    "これは$$\\textbf{最尤推定(maximum likelihood estimation)}$$と呼ばれる。\n",
    "\n",
    "ここで過学習を防ぎ汎化性能をもたせるため、φに関する生成過程も考慮すると、\n",
    "$$\n",
    "\\phi^* = \\arg\\max_\\phi \\left( \\log p\\left( \\phi | \\eta \\right) + \\sum_{i=1}^n \\log p \\left( x_i|\\phi \\right)\\right)\n",
    "$$\n",
    "これは$$\\textbf{事後確率最大推定(maximum a posteriori)}$$と呼ばれる。\n",
    "\n",
    "つぎに潜在変数を扱うため、ギブスサンプリングにより近似的に事後確率最大推定を行う。"
   ]
  },
  {
   "cell_type": "markdown",
   "id": "f4a1df20-49ce-4d4a-ae8f-b530b464097f",
   "metadata": {},
   "source": [
    "# Dirichlet 分布のパラメータ推定"
   ]
  },
  {
   "cell_type": "markdown",
   "id": "ca39756e-6a17-4613-991d-3976802c9a72",
   "metadata": {},
   "source": [
    "$\\alpha$: 文書ごとのトピック分布\\\\\n",
    "$\\beta$: トピックごとの単語分布\\\\\n",
    "$\\alpha$と$\\beta$の対称/非対称により、LDAの性質を大きく左右するが、ここではストップワードをまとめて抽出できる傾向にあると紹介されている$\\alpha$-非対称/$\\beta$-対称を用いることとする。"
   ]
  },
  {
   "cell_type": "markdown",
   "id": "b738f737-eb7d-420f-859a-93b61488c689",
   "metadata": {},
   "source": [
    "# 固定点反復法"
   ]
  },
  {
   "cell_type": "code",
   "execution_count": 4,
   "id": "76095fc8-6090-4019-8a08-80d3be705857",
   "metadata": {
    "execution": {
     "iopub.execute_input": "2025-06-18T03:07:45.221506Z",
     "iopub.status.busy": "2025-06-18T03:07:45.221101Z",
     "iopub.status.idle": "2025-06-18T03:07:45.269910Z",
     "shell.execute_reply": "2025-06-18T03:07:45.269440Z",
     "shell.execute_reply.started": "2025-06-18T03:07:45.221449Z"
    },
    "tags": []
   },
   "outputs": [],
   "source": [
    "import numpy as np\n",
    "from scipy.special import psi  # psi = digamma 関数"
   ]
  },
  {
   "cell_type": "markdown",
   "id": "6ba06fb5-f24f-41cc-bd07-b3a9e371cd0f",
   "metadata": {},
   "source": [
    "式3.191：$\\alpha$の更新式\n",
    "$$\n",
    "\\alpha_k = \\frac{ \\sum_{d=1}^{M}a_{d,k}} {\\sum_{d=1}^{M}b_d} = \\frac{\n",
    "    \\sum_{d=1}^{M} \\left[ \n",
    "                        \\Psi\\left(\n",
    "                                    \\bf{E} \\left[ n_{d,k} \\right]\n",
    "                                    + \\hat{\\alpha}_k \n",
    "                                    - \\Psi \\left( \\hat{\\alpha}_k \\right)\n",
    "                        \\right)\n",
    "    \\right]\n",
    "    \\hat{\\alpha}_k\n",
    "    }{\n",
    "    \\sum_{d=1}^{M} \\left[ \n",
    "                        \\Psi\\left(\n",
    "                                    n_d + \\sum^K_{k=1} \\hat{\\alpha}_k \\right)\n",
    "                                    - \\Psi \\left( \\sum^K_{k=1} \\hat{\\alpha}_k \\right)\n",
    "    \\right]\n",
    "    }\n",
    "$$"
   ]
  },
  {
   "cell_type": "code",
   "execution_count": 16,
   "id": "78034af6-417d-44d8-9cf9-ca3950897817",
   "metadata": {
    "execution": {
     "iopub.execute_input": "2025-06-19T03:33:22.839328Z",
     "iopub.status.busy": "2025-06-19T03:33:22.838853Z",
     "iopub.status.idle": "2025-06-19T03:33:23.120634Z",
     "shell.execute_reply": "2025-06-19T03:33:23.120039Z",
     "shell.execute_reply.started": "2025-06-19T03:33:22.839238Z"
    },
    "tags": []
   },
   "outputs": [],
   "source": [
    "import numpy as np\n",
    "import matplotlib.pyplot as plt\n",
    "from scipy.special import psi\n",
    "def alpha_update(alpha_hat, n_dk, n_d, max_iter = 100, tolerance = 1e-6):\n",
    "    M = len(n_d) # 文書数\n",
    "    K = len(alpha_hat) # トピック数\n",
    "    alpha_new = np.zeros(K)\n",
    "    sum_alpha_hat = np.sum(alpha_hat)\n",
    "    denominator = 0 # 文書ごとに一定なので、ループの外で先に計算\n",
    "    for d in range(M):\n",
    "        denominator += psi(n_d[d] + sum_alpha_hat) - psi(sum_alpha_hat)\n",
    "    for k in range(K): # 各トピックkごとの分子および alpha_k の更新\n",
    "        numerator = 0 # 分子\n",
    "        for d in range(M): \n",
    "            numerator += ( psi(n_dk[d,k]) + alpha_hat[k] - psi(alpha_hat[k]) ) * alpha_hat[k]\n",
    "        alpha_new[k] = numerator / denominator\n",
    "    return alpha_new"
   ]
  },
  {
   "cell_type": "code",
   "execution_count": 20,
   "id": "6fd44c2c-ca49-49dc-948d-b09a62cbc0bf",
   "metadata": {
    "execution": {
     "iopub.execute_input": "2025-06-19T03:46:12.178381Z",
     "iopub.status.busy": "2025-06-19T03:46:12.178246Z",
     "iopub.status.idle": "2025-06-19T03:46:12.352672Z",
     "shell.execute_reply": "2025-06-19T03:46:12.351752Z",
     "shell.execute_reply.started": "2025-06-19T03:46:12.178364Z"
    },
    "tags": []
   },
   "outputs": [
    {
     "data": {
      "image/png": "[encoded data removed]",
      "text/plain": [
       "<Figure size 720x432 with 1 Axes>"
      ]
     },
     "metadata": {
      "needs_background": "light"
     },
     "output_type": "display_data"
    }
   ],
   "source": [
    "# 仮の観測データ\n",
    "M = 10  # 文書数\n",
    "K = 3   # トピック数\n",
    "\n",
    "# 文書ごとのトピック割り当てカウント\n",
    "np.random.seed(42)\n",
    "n_dk = np.random.poisson(5, size=(M, K))\n",
    "n_d = np.sum(n_dk, axis=1)\n",
    "\n",
    "# 初期 alpha_hat を変化させて出力 alpha を観察\n",
    "alphas = []\n",
    "alpha_hat_values = np.linspace(0.1, 5.0, 50)\n",
    "for a in alpha_hat_values:\n",
    "    alpha_hat = np.full(K, a)\n",
    "    alpha = alpha_update(alpha_hat, n_dk, n_d)\n",
    "    alphas.append(alpha)\n",
    "\n",
    "alphas = np.array(alphas)\n",
    "\n",
    "# 可視化\n",
    "plt.figure(figsize=(10, 6))\n",
    "for k in range(K):\n",
    "    plt.plot(alpha_hat_values, alphas[:, k], label=f'Topic {k+1}')\n",
    "plt.xlabel(r'Initial $\\hat{\\alpha}$ value')\n",
    "plt.ylabel('Updated alpha value')\n",
    "plt.title(r'Effect of Initial $\\hat{\\alpha}$ on Updated alpha')\n",
    "plt.legend()\n",
    "plt.grid(True)\n",
    "plt.show()"
   ]
  },
  {
   "cell_type": "markdown",
   "id": "599b0f32-8f3a-4d8d-813a-48546204bec8",
   "metadata": {},
   "source": [
    "ここで、$\\bf\\beta$に関しては低頻度の単語などが含まれることより、データ量の観点から単語ごとに$\\beta_v$を推定することは必ずしもよいとは限らない。\n",
    "\n",
    "したがって、ここではすべての単語に対して同じ値$\\beta$を用いることとする。\n",
    "\n",
    "式3.194\n",
    "$$\n",
    "\\beta = \\frac{1}{V} \\frac{\n",
    "\\sum_{k=1}^K \\sum_{v=1}^V \\left[ \\Psi \\left(\n",
    "                    \\bf{E} \\left[ n_{k,v} \\right] + \\hat{\\beta}\n",
    "                                      \\right) - \\Psi\\left( \\hat{\\beta} \\right) \\right] \\hat{\\beta}\n",
    "}{\n",
    "\\sum_{k=1}^K \\left[ \\Psi \\left(\n",
    "                    \\sum_{v=1}^V\n",
    "                    \\bf{E} \\left[ n_{k,v} \\right] + \\hat{\\beta}\n",
    "                                      \\right) - \\Psi\\left( V\\hat{\\beta} \\right) \\right]\n",
    "}\n",
    "$$"
   ]
  },
  {
   "cell_type": "code",
   "execution_count": 11,
   "id": "81e5c482-ce0d-4fbd-a9b5-9d6c8f0a2661",
   "metadata": {
    "execution": {
     "iopub.execute_input": "2025-06-18T08:11:00.442868Z",
     "iopub.status.busy": "2025-06-18T08:11:00.442389Z",
     "iopub.status.idle": "2025-06-18T08:11:00.459797Z",
     "shell.execute_reply": "2025-06-18T08:11:00.458100Z",
     "shell.execute_reply.started": "2025-06-18T08:11:00.442801Z"
    },
    "tags": []
   },
   "outputs": [
    {
     "name": "stdout",
     "output_type": "stream",
     "text": [
      "0.24177681342496055\n"
     ]
    }
   ],
   "source": [
    "def beta_update(beta_hat, n_kv):\n",
    "    # 分子部分\n",
    "    for k in range(K):\n",
    "        numerator = 0\n",
    "        x = 0\n",
    "        for v in range(V):\n",
    "            x += ( (psi(n_kv[k,v]) + beta_hat) - psi(beta_hat) ) * beta_hat\n",
    "        numerator += x\n",
    "    \n",
    "    # 分母部分\n",
    "    for k in range(K):\n",
    "        denominator = 0\n",
    "        y = 0\n",
    "        y_prime = 0\n",
    "        for v in range(V):\n",
    "            y  += n_kv[k,v]\n",
    "        y_prime += psi(y + beta_hat) -psi(V * beta_hat)\n",
    "        denominator += y_prime\n",
    "\n",
    "    beta_new = numerator / denominator / V\n",
    "    return beta_new\n",
    "\n",
    "# 例\n",
    "K, V = 3, 5\n",
    "n_kv = np.array([[10, 5, 2, 3, 1],\n",
    "                 [4, 6, 8, 2, 0],\n",
    "                 [1, 2, 3, 4, 5]])\n",
    "beta_hat = 0.1\n",
    "\n",
    "beta_new = beta_update(beta_hat, n_kv)\n",
    "print(beta_new)"
   ]
  },
  {
   "cell_type": "code",
   "execution_count": null,
   "id": "1abe38b5-6dc6-4786-939d-764dd40a5360",
   "metadata": {},
   "outputs": [],
   "source": []
  }
 ],
 "metadata": {
  "kernelspec": {
   "display_name": "base",
   "language": "python",
   "name": "python3"
  },
  "language_info": {
   "codemirror_mode": {
    "name": "ipython",
    "version": 3
   },
   "file_extension": ".py",
   "mimetype": "text/x-python",
   "name": "python",
   "nbconvert_exporter": "python",
   "pygments_lexer": "ipython3",
   "version": "3.11.5"
  }
 },
 "nbformat": 4,
 "nbformat_minor": 5
}
